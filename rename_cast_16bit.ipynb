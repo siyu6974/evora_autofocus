{
 "cells": [
  {
   "cell_type": "code",
   "execution_count": 1,
   "id": "1a9b7935-0b2c-4a0f-a378-2ccf9ef16735",
   "metadata": {},
   "outputs": [],
   "source": [
    "import shutil\n",
    "\n",
    "def rename_file(directory, old_name, new_name):\n",
    "    # Construct the full file paths for the old and new names\n",
    "    old_path = os.path.join(directory, old_name)\n",
    "    new_path = os.path.join(directory, new_name)\n",
    "\n",
    "    # Rename the file\n",
    "    shutil.move(old_path, new_path)\n",
    "    print(f\"Renamed '{old_name}' to '{new_name}'.\")"
   ]
  },
  {
   "cell_type": "code",
   "execution_count": 2,
   "id": "7e8352b2-706d-40cf-a16c-860c3b976c49",
   "metadata": {},
   "outputs": [],
   "source": [
    "import numpy as np\n",
    "import matplotlib.pyplot as plt\n",
    "from astropy.io import fits\n",
    "from photutils.detection import DAOStarFinder\n",
    "from astropy.stats import sigma_clipped_stats\n",
    "\n"
   ]
  },
  {
   "cell_type": "code",
   "execution_count": 3,
   "id": "066d6163-f55b-4b60-b7af-4475dbf3bb9d",
   "metadata": {},
   "outputs": [],
   "source": [
    "import glob"
   ]
  },
  {
   "cell_type": "code",
   "execution_count": 4,
   "id": "65e1bb25-8961-4780-9bff-31156d39b3c4",
   "metadata": {},
   "outputs": [],
   "source": [
    "parent_dir = \"/Users/siyu/Downloads/MRO0528/\"\n",
    "file_pathes = glob.glob(f\"{parent_dir}*.fits\")"
   ]
  },
  {
   "cell_type": "code",
   "execution_count": 5,
   "id": "db0724b9-dcbe-4dd9-9384-38fe692d6e52",
   "metadata": {},
   "outputs": [
    {
     "name": "stdout",
     "output_type": "stream",
     "text": [
      "2023-05-28T08:21:20_r_-79.25_300.0s_0041.fits\n",
      "2023-05-28T06:55:09_V_-79.25_60.0s_0016.fits\n",
      "2023-05-28T06:58:33_V_-79.25_300.0s_0020.fits\n",
      "2023-05-28T07:31:25_g_-79.25_60.0s_0036.fits\n",
      "2023-05-28T07:33:10_r_-79.25_60.0s_0037.fits\n",
      "2023-05-28T07:08:01_i_-79.25_150.0s_0021.fits\n",
      "2023-05-28T03:13:37_Ha_0.58_0.0s_0001.fits\n",
      "2023-05-28T06:57:23_V_-79.25_5.0s_0017.fits\n",
      "2023-05-28T08:18:35_B_-79.25_5.0s_0040.fits\n",
      "2023-05-28T07:16:24_r_-79.25_3.0s_0026.fits\n",
      "2023-05-28T07:19:34_g_-79.25_30.0s_0030.fits\n",
      "2023-05-28T09:25:19_r_-79.25_3.0s_0047.fits\n",
      "2023-05-28T06:22:21_B_-79.25_60.0s_0010.fits\n",
      "2023-05-28T06:12:48_g_-79.25_5.0s_0006.fits\n",
      "2023-05-28T09:26:09_r_-79.25_3.0s_0051.fits\n",
      "2023-05-28T09:25:52_r_-79.25_3.0s_0050.fits\n",
      "2023-05-28T06:13:25_g_-79.25_5.0s_0007.fits\n",
      "2023-05-28T06:25:16_r_-79.25_60.0s_0011.fits\n",
      "2023-05-28T09:22:47_r_-79.25_30.0s_0046.fits\n",
      "2023-05-28T07:21:03_V_-79.25_1.0s_0031.fits\n",
      "2023-05-28T07:17:10_B_-79.25_3.0s_0027.fits\n",
      "2023-05-28T07:22:00_V_-79.25_60.0s_0032.fits\n",
      "2023-05-28T07:15:33_r_-79.25_3.0s_0024.fits\n",
      "2023-05-28T06:18:55_g_-79.25_30.0s_0008.fits\n",
      "2023-05-28T09:25:40_r_-79.25_3.0s_0049.fits\n",
      "2023-05-28T07:18:12_i_-79.25_3.0s_0028.fits\n",
      "2023-05-28T09:28:42_g_-79.25_60.0s_0053.fits\n",
      "2023-05-28T06:09:45_g_-79.25_5.0s_0004.fits\n",
      "2023-05-28T06:27:27_V_-79.25_60.0s_0012.fits\n",
      "2023-05-28T09:21:45_r_-79.25_15.0s_0045.fits\n",
      "2023-05-28T09:13:28_r_-79.25_20.0s_0044.fits\n",
      "2023-05-28T06:33:20_V_-79.25_60.0s_0013.fits\n",
      "2023-05-28T06:12:08_g_-79.25_5.0s_0005.fits\n",
      "2023-05-28T09:26:32_r_-79.25_60.0s_0052.fits\n",
      "2023-05-28T07:18:54_g_-79.25_3.0s_0029.fits\n",
      "2023-05-28T09:25:26_r_-79.25_3.0s_0048.fits\n",
      "2023-05-28T06:20:46_Ha_-79.25_60.0s_0009.fits\n",
      "2023-05-28T07:15:58_r_-79.25_3.0s_0025.fits\n",
      "2023-05-28T07:23:44_Ha_-79.25_6.0s_0033.fits\n",
      "2023-05-28T08:17:40_B_-79.25_1.0s_0038.fits\n",
      "2023-05-28T03:14:15_g_-5.26_0.0s_0002.fits\n",
      "2023-05-28T06:36:31_V_-79.25_60.0s_0014.fits\n",
      "2023-05-28T09:12:41_r_-79.25_2.0s_0043.fits\n",
      "2023-05-28T07:25:44_Ha_-79.25_60.0s_0034.fits\n",
      "2023-05-28T07:11:43_i_-79.25_3.0s_0022.fits\n",
      "2023-05-28T06:57:37_V_-79.25_5.0s_0018.fits\n",
      "2023-05-28T06:57:57_V_-79.25_5.0s_0019.fits\n",
      "2023-05-28T07:14:45_r_-79.25_3.0s_0023.fits\n",
      "2023-05-28T07:29:08_B_-79.25_60.0s_0035.fits\n",
      "2023-05-28T08:58:15_r_-79.25_2.0s_0042.fits\n",
      "2023-05-28T06:38:16_V_-79.25_300.0s_0015.fits\n",
      "2023-05-28T03:14:47_g_-4.61_5.0s_0003.fits\n",
      "2023-05-28T09:30:41_B_-79.25_60.0s_0054.fits\n",
      "2023-05-28T08:17:59_B_-79.25_5.0s_0039.fits\n"
     ]
    }
   ],
   "source": [
    "for filename in file_pathes:\n",
    "    hdul = fits.open(filename)\n",
    "    h = hdul[0].header\n",
    "    image_data = hdul[0].data\n",
    "\n",
    "    seq_nb = filename.split(\"/\")[-1].split(\"-\")[-1].split(\".\")[0]\n",
    "    temp = h[\"TEMP\"]\n",
    "    filter_exp = h[\"FILTER\"]\n",
    "    exp_time = h[\"EXP_TIME\"]\n",
    "    date_obs = h[\"DATE-OBS\"].split(\".\")[0]\n",
    "    new_name = f\"{date_obs}_{filter_exp}_{temp}_{exp_time}s_{seq_nb}.fits\"\n",
    "    print(new_name)\n",
    "    hdu = fits.PrimaryHDU(data=image_data.astype(np.uint16), header=h)\n",
    "    new_name = new_name.replace(\":\", \"-\")\n",
    "    hdu.writeto(new_name)"
   ]
  },
  {
   "cell_type": "code",
   "execution_count": null,
   "id": "8a0d3b57-af13-491e-9da2-80158f2385e2",
   "metadata": {},
   "outputs": [],
   "source": []
  }
 ],
 "metadata": {
  "kernelspec": {
   "display_name": "Python 3 (ipykernel)",
   "language": "python",
   "name": "python3"
  },
  "language_info": {
   "codemirror_mode": {
    "name": "ipython",
    "version": 3
   },
   "file_extension": ".py",
   "mimetype": "text/x-python",
   "name": "python",
   "nbconvert_exporter": "python",
   "pygments_lexer": "ipython3",
   "version": "3.9.15"
  }
 },
 "nbformat": 4,
 "nbformat_minor": 5
}
